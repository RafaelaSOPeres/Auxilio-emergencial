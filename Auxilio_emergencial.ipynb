{
  "nbformat": 4,
  "nbformat_minor": 0,
  "metadata": {
    "colab": {
      "name": "Auxilio emergencial",
      "provenance": []
    },
    "kernelspec": {
      "name": "python3",
      "display_name": "Python 3"
    }
  },
  "cells": [
    {
      "cell_type": "code",
      "metadata": {
        "id": "RV98qhhCZ0gY",
        "colab": {
          "base_uri": "https://localhost:8080/"
        },
        "outputId": "df633529-9d04-4bb8-e842-dd574e45f476"
      },
      "source": [
        "def diagnosticar_auxilio(renda_familiar, num_integrantes):\n",
        "    sal_min = 1045\n",
        "    max_renda_familiar = 3 * sal_min\n",
        "    max_renda_por_pessoa = 0.5 * sal_min\n",
        "    \n",
        "    renda_por_pessoa = renda_familiar / num_integrantes\n",
        "    renda_por_pessoa = round(renda_por_pessoa, 2)\n",
        "    \n",
        "   \n",
        "    comparar_renda_familiar = \"\"\n",
        "    comparar_renda_por_pessoa = \"\"\n",
        "    elegivel = \"\"\n",
        "    \n",
        "    if renda_familiar <= max_renda_familiar:\n",
        "        comparar_renda_familiar = \"inferior ou igual\"\n",
        "    else:\n",
        "        comparar_renda_familiar = \"superior\"\n",
        "    \n",
        "    ###############################################\n",
        "    \n",
        "    if renda_por_pessoa <= max_renda_por_pessoa:\n",
        "        comparar_renda_por_pessoa = \"inferior ou igual\"\n",
        "    else:\n",
        "        comparar_renda_por_pessoa = \"superior\"\n",
        "        \n",
        "    if renda_familiar <= max_renda_familiar or renda_por_pessoa <= max_renda_por_pessoa:\n",
        "        elegivel = \"pode\"\n",
        "    else:\n",
        "        elegivel = \"não pode\"\n",
        "        \n",
        "        \n",
        "    diagnostico = f\"A renda familiar total, de R$ {renda_familiar:.2f}, é {comparar_renda_familiar} a R$ {max_renda_familiar}.\\n\"\n",
        "    diagnostico += f\"A renda mensal por pessoa é de R$ {renda_por_pessoa}, {comparar_renda_por_pessoa} a R$ {max_renda_por_pessoa}.\\n\"\n",
        "    diagnostico += f\"O cidadão {elegivel} ser beneficiário do Auxílio Emergencial.\"\n",
        "    print(diagnostico)\n",
        "    \n",
        "renda_familiar = float(input(\"Informe a renda familiar total mensal: R$ \"))\n",
        "num_integrantes = int(input(\"Informe o número de membros da família: \"))\n",
        "diagnosticar_auxilio(renda_familiar, num_integrantes)"
      ],
      "execution_count": 2,
      "outputs": [
        {
          "output_type": "stream",
          "text": [
            "Informe a renda familiar total mensal: R$ 4000\n",
            "Informe o número de membros da família: 3\n",
            "A renda familiar total, de R$ 4000.00, é superior a R$ 3135.\n",
            "A renda mensal por pessoa é de R$ 1333.33, superior a R$ 522.5.\n",
            "O cidadão não pode ser beneficiário do Auxílio Emergencial.\n"
          ],
          "name": "stdout"
        }
      ]
    }
  ]
}